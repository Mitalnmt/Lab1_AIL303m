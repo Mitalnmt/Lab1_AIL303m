{
 "cells": [
  {
   "cell_type": "markdown",
   "id": "43c0f584",
   "metadata": {},
   "source": [
    "# Water Potability – EDA Lab 1"
   ]
  },
  {
   "cell_type": "code",
   "execution_count": 1,
   "id": "415e76c1-de42-4e46-a9d9-4de09ad94813",
   "metadata": {},
   "outputs": [],
   "source": [
    "# Import all required libraries\n",
    "import pandas as pd\n",
    "import numpy as np\n",
    "import matplotlib.pyplot as plt\n",
    "import seaborn as sns\n",
    "from scipy import stats\n",
    "import warnings\n",
    "warnings.filterwarnings(\"ignore\")\n",
    "#sns.set_context('notebook')\n"
   ]
  },
  {
   "cell_type": "code",
   "execution_count": 2,
   "id": "1733ff83-f431-4faa-bac5-a12594789e77",
   "metadata": {},
   "outputs": [],
   "source": [
    "#Thu vien bo sung\n",
    "import os\n",
    "from sklearn.preprocessing import StandardScaler"
   ]
  },
  {
   "cell_type": "markdown",
   "id": "aeb92fe0-6ad4-4657-a034-14d34043fb25",
   "metadata": {},
   "source": [
    "# EDA - Exploratory Data Analysis"
   ]
  },
  {
   "cell_type": "markdown",
   "id": "85969c72",
   "metadata": {},
   "source": [
    "## 1) Describe data\n",
    "\n",
    "*The dataset is downloaded from [Kaggle](https://www.kaggle.com/adityakadiwal/water-potability).*\n",
    "\n",
    "**NOTE:** GitHub project link: [Lab1_AIL303m](https://github.com/Mitalnmt/Lab1_AIL303m.git)\n"
   ]
  },
  {
   "cell_type": "markdown",
   "id": "2ecd074a-2328-4258-9dba-fce02009a17a",
   "metadata": {},
   "source": [
    "### 1.1 Load dataset\n"
   ]
  },
  {
   "cell_type": "code",
   "execution_count": 3,
   "id": "b0cc4005",
   "metadata": {},
   "outputs": [],
   "source": [
    "#In [2]:\n",
    "# File is stored in github repository for easiness of access\n",
    "INPUT_FILE_PATH = \"https://raw.githubusercontent.com/Mitalnmt/Lab1_AIL303m/main/water_potability.csv\""
   ]
  },
  {
   "cell_type": "code",
   "execution_count": 4,
   "id": "adcf8525-26b5-4f2a-9d80-8920d0c42c98",
   "metadata": {},
   "outputs": [],
   "source": [
    "#In [3]:\n",
    "# Read the csv file from the url\n",
    "df = pd.read_csv(INPUT_FILE_PATH)"
   ]
  },
  {
   "cell_type": "markdown",
   "id": "ee5dea14-46bc-4125-93bf-e61aaf8198ca",
   "metadata": {},
   "source": [
    "### 1.2 Preview first rows\n"
   ]
  },
  {
   "cell_type": "code",
   "execution_count": 5,
   "id": "f7d1ae9c-0d8c-48ab-917c-cd54d5d2e329",
   "metadata": {
    "scrolled": true
   },
   "outputs": [
    {
     "data": {
      "text/html": [
       "<div>\n",
       "<style scoped>\n",
       "    .dataframe tbody tr th:only-of-type {\n",
       "        vertical-align: middle;\n",
       "    }\n",
       "\n",
       "    .dataframe tbody tr th {\n",
       "        vertical-align: top;\n",
       "    }\n",
       "\n",
       "    .dataframe thead th {\n",
       "        text-align: right;\n",
       "    }\n",
       "</style>\n",
       "<table border=\"1\" class=\"dataframe\">\n",
       "  <thead>\n",
       "    <tr style=\"text-align: right;\">\n",
       "      <th></th>\n",
       "      <th>ph</th>\n",
       "      <th>Hardness</th>\n",
       "      <th>Solids</th>\n",
       "      <th>Chloramines</th>\n",
       "      <th>Sulfate</th>\n",
       "      <th>Conductivity</th>\n",
       "      <th>Organic_carbon</th>\n",
       "      <th>Trihalomethanes</th>\n",
       "      <th>Turbidity</th>\n",
       "      <th>Potability</th>\n",
       "    </tr>\n",
       "  </thead>\n",
       "  <tbody>\n",
       "    <tr>\n",
       "      <th>0</th>\n",
       "      <td>NaN</td>\n",
       "      <td>204.890455</td>\n",
       "      <td>20791.318981</td>\n",
       "      <td>7.300212</td>\n",
       "      <td>368.516441</td>\n",
       "      <td>564.308654</td>\n",
       "      <td>10.379783</td>\n",
       "      <td>86.990970</td>\n",
       "      <td>2.963135</td>\n",
       "      <td>0</td>\n",
       "    </tr>\n",
       "    <tr>\n",
       "      <th>1</th>\n",
       "      <td>3.716080</td>\n",
       "      <td>129.422921</td>\n",
       "      <td>18630.057858</td>\n",
       "      <td>6.635246</td>\n",
       "      <td>NaN</td>\n",
       "      <td>592.885359</td>\n",
       "      <td>15.180013</td>\n",
       "      <td>56.329076</td>\n",
       "      <td>4.500656</td>\n",
       "      <td>0</td>\n",
       "    </tr>\n",
       "    <tr>\n",
       "      <th>2</th>\n",
       "      <td>8.099124</td>\n",
       "      <td>224.236259</td>\n",
       "      <td>19909.541732</td>\n",
       "      <td>9.275884</td>\n",
       "      <td>NaN</td>\n",
       "      <td>418.606213</td>\n",
       "      <td>16.868637</td>\n",
       "      <td>66.420093</td>\n",
       "      <td>3.055934</td>\n",
       "      <td>0</td>\n",
       "    </tr>\n",
       "    <tr>\n",
       "      <th>3</th>\n",
       "      <td>8.316766</td>\n",
       "      <td>214.373394</td>\n",
       "      <td>22018.417441</td>\n",
       "      <td>8.059332</td>\n",
       "      <td>356.886136</td>\n",
       "      <td>363.266516</td>\n",
       "      <td>18.436524</td>\n",
       "      <td>100.341674</td>\n",
       "      <td>4.628771</td>\n",
       "      <td>0</td>\n",
       "    </tr>\n",
       "    <tr>\n",
       "      <th>4</th>\n",
       "      <td>9.092223</td>\n",
       "      <td>181.101509</td>\n",
       "      <td>17978.986339</td>\n",
       "      <td>6.546600</td>\n",
       "      <td>310.135738</td>\n",
       "      <td>398.410813</td>\n",
       "      <td>11.558279</td>\n",
       "      <td>31.997993</td>\n",
       "      <td>4.075075</td>\n",
       "      <td>0</td>\n",
       "    </tr>\n",
       "  </tbody>\n",
       "</table>\n",
       "</div>"
      ],
      "text/plain": [
       "         ph    Hardness        Solids  Chloramines     Sulfate  Conductivity  \\\n",
       "0       NaN  204.890455  20791.318981     7.300212  368.516441    564.308654   \n",
       "1  3.716080  129.422921  18630.057858     6.635246         NaN    592.885359   \n",
       "2  8.099124  224.236259  19909.541732     9.275884         NaN    418.606213   \n",
       "3  8.316766  214.373394  22018.417441     8.059332  356.886136    363.266516   \n",
       "4  9.092223  181.101509  17978.986339     6.546600  310.135738    398.410813   \n",
       "\n",
       "   Organic_carbon  Trihalomethanes  Turbidity  Potability  \n",
       "0       10.379783        86.990970   2.963135           0  \n",
       "1       15.180013        56.329076   4.500656           0  \n",
       "2       16.868637        66.420093   3.055934           0  \n",
       "3       18.436524       100.341674   4.628771           0  \n",
       "4       11.558279        31.997993   4.075075           0  "
      ]
     },
     "execution_count": 5,
     "metadata": {},
     "output_type": "execute_result"
    }
   ],
   "source": [
    "#In [4]:\n",
    "# Print the first 5 rows of the dataframe\n",
    "df.head()"
   ]
  },
  {
   "cell_type": "markdown",
   "id": "a72cc014-009f-4479-b88d-0ba43f065e12",
   "metadata": {},
   "source": [
    "### 1.3 Shape & data types\n"
   ]
  },
  {
   "cell_type": "code",
   "execution_count": 6,
   "id": "4697dec7",
   "metadata": {
    "scrolled": true
   },
   "outputs": [
    {
     "name": "stdout",
     "output_type": "stream",
     "text": [
      "(3276, 10)\n",
      "ph                 float64\n",
      "Hardness           float64\n",
      "Solids             float64\n",
      "Chloramines        float64\n",
      "Sulfate            float64\n",
      "Conductivity       float64\n",
      "Organic_carbon     float64\n",
      "Trihalomethanes    float64\n",
      "Turbidity          float64\n",
      "Potability           int64\n",
      "dtype: object\n"
     ]
    }
   ],
   "source": [
    "#In [5]:\n",
    "# datatypes of the columns\n",
    "\n",
    "print(df.shape)\n",
    "print(df.dtypes)"
   ]
  },
  {
   "cell_type": "markdown",
   "id": "18ceab8e-751f-4c5d-86b9-3a2748b739a1",
   "metadata": {},
   "source": [
    "### 1.4 Summary statistics\n"
   ]
  },
  {
   "cell_type": "code",
   "execution_count": 7,
   "id": "c6811a6a-abff-4e4f-99f1-fa9ae8138b63",
   "metadata": {},
   "outputs": [
    {
     "data": {
      "text/html": [
       "<div>\n",
       "<style scoped>\n",
       "    .dataframe tbody tr th:only-of-type {\n",
       "        vertical-align: middle;\n",
       "    }\n",
       "\n",
       "    .dataframe tbody tr th {\n",
       "        vertical-align: top;\n",
       "    }\n",
       "\n",
       "    .dataframe thead th {\n",
       "        text-align: right;\n",
       "    }\n",
       "</style>\n",
       "<table border=\"1\" class=\"dataframe\">\n",
       "  <thead>\n",
       "    <tr style=\"text-align: right;\">\n",
       "      <th></th>\n",
       "      <th>ph</th>\n",
       "      <th>Hardness</th>\n",
       "      <th>Solids</th>\n",
       "      <th>Chloramines</th>\n",
       "      <th>Sulfate</th>\n",
       "      <th>Conductivity</th>\n",
       "      <th>Organic_carbon</th>\n",
       "      <th>Trihalomethanes</th>\n",
       "      <th>Turbidity</th>\n",
       "      <th>Potability</th>\n",
       "    </tr>\n",
       "  </thead>\n",
       "  <tbody>\n",
       "    <tr>\n",
       "      <th>count</th>\n",
       "      <td>2785.000000</td>\n",
       "      <td>3276.000000</td>\n",
       "      <td>3276.000000</td>\n",
       "      <td>3276.000000</td>\n",
       "      <td>2495.000000</td>\n",
       "      <td>3276.000000</td>\n",
       "      <td>3276.000000</td>\n",
       "      <td>3114.000000</td>\n",
       "      <td>3276.000000</td>\n",
       "      <td>3276.000000</td>\n",
       "    </tr>\n",
       "    <tr>\n",
       "      <th>mean</th>\n",
       "      <td>7.080795</td>\n",
       "      <td>196.369496</td>\n",
       "      <td>22014.092526</td>\n",
       "      <td>7.122277</td>\n",
       "      <td>333.775777</td>\n",
       "      <td>426.205111</td>\n",
       "      <td>14.284970</td>\n",
       "      <td>66.396293</td>\n",
       "      <td>3.966786</td>\n",
       "      <td>0.390110</td>\n",
       "    </tr>\n",
       "    <tr>\n",
       "      <th>std</th>\n",
       "      <td>1.594320</td>\n",
       "      <td>32.879761</td>\n",
       "      <td>8768.570828</td>\n",
       "      <td>1.583085</td>\n",
       "      <td>41.416840</td>\n",
       "      <td>80.824064</td>\n",
       "      <td>3.308162</td>\n",
       "      <td>16.175008</td>\n",
       "      <td>0.780382</td>\n",
       "      <td>0.487849</td>\n",
       "    </tr>\n",
       "    <tr>\n",
       "      <th>min</th>\n",
       "      <td>0.000000</td>\n",
       "      <td>47.432000</td>\n",
       "      <td>320.942611</td>\n",
       "      <td>0.352000</td>\n",
       "      <td>129.000000</td>\n",
       "      <td>181.483754</td>\n",
       "      <td>2.200000</td>\n",
       "      <td>0.738000</td>\n",
       "      <td>1.450000</td>\n",
       "      <td>0.000000</td>\n",
       "    </tr>\n",
       "    <tr>\n",
       "      <th>25%</th>\n",
       "      <td>6.093092</td>\n",
       "      <td>176.850538</td>\n",
       "      <td>15666.690297</td>\n",
       "      <td>6.127421</td>\n",
       "      <td>307.699498</td>\n",
       "      <td>365.734414</td>\n",
       "      <td>12.065801</td>\n",
       "      <td>55.844536</td>\n",
       "      <td>3.439711</td>\n",
       "      <td>0.000000</td>\n",
       "    </tr>\n",
       "    <tr>\n",
       "      <th>50%</th>\n",
       "      <td>7.036752</td>\n",
       "      <td>196.967627</td>\n",
       "      <td>20927.833607</td>\n",
       "      <td>7.130299</td>\n",
       "      <td>333.073546</td>\n",
       "      <td>421.884968</td>\n",
       "      <td>14.218338</td>\n",
       "      <td>66.622485</td>\n",
       "      <td>3.955028</td>\n",
       "      <td>0.000000</td>\n",
       "    </tr>\n",
       "    <tr>\n",
       "      <th>75%</th>\n",
       "      <td>8.062066</td>\n",
       "      <td>216.667456</td>\n",
       "      <td>27332.762127</td>\n",
       "      <td>8.114887</td>\n",
       "      <td>359.950170</td>\n",
       "      <td>481.792304</td>\n",
       "      <td>16.557652</td>\n",
       "      <td>77.337473</td>\n",
       "      <td>4.500320</td>\n",
       "      <td>1.000000</td>\n",
       "    </tr>\n",
       "    <tr>\n",
       "      <th>max</th>\n",
       "      <td>14.000000</td>\n",
       "      <td>323.124000</td>\n",
       "      <td>61227.196008</td>\n",
       "      <td>13.127000</td>\n",
       "      <td>481.030642</td>\n",
       "      <td>753.342620</td>\n",
       "      <td>28.300000</td>\n",
       "      <td>124.000000</td>\n",
       "      <td>6.739000</td>\n",
       "      <td>1.000000</td>\n",
       "    </tr>\n",
       "  </tbody>\n",
       "</table>\n",
       "</div>"
      ],
      "text/plain": [
       "                ph     Hardness        Solids  Chloramines      Sulfate  \\\n",
       "count  2785.000000  3276.000000   3276.000000  3276.000000  2495.000000   \n",
       "mean      7.080795   196.369496  22014.092526     7.122277   333.775777   \n",
       "std       1.594320    32.879761   8768.570828     1.583085    41.416840   \n",
       "min       0.000000    47.432000    320.942611     0.352000   129.000000   \n",
       "25%       6.093092   176.850538  15666.690297     6.127421   307.699498   \n",
       "50%       7.036752   196.967627  20927.833607     7.130299   333.073546   \n",
       "75%       8.062066   216.667456  27332.762127     8.114887   359.950170   \n",
       "max      14.000000   323.124000  61227.196008    13.127000   481.030642   \n",
       "\n",
       "       Conductivity  Organic_carbon  Trihalomethanes    Turbidity   Potability  \n",
       "count   3276.000000     3276.000000      3114.000000  3276.000000  3276.000000  \n",
       "mean     426.205111       14.284970        66.396293     3.966786     0.390110  \n",
       "std       80.824064        3.308162        16.175008     0.780382     0.487849  \n",
       "min      181.483754        2.200000         0.738000     1.450000     0.000000  \n",
       "25%      365.734414       12.065801        55.844536     3.439711     0.000000  \n",
       "50%      421.884968       14.218338        66.622485     3.955028     0.000000  \n",
       "75%      481.792304       16.557652        77.337473     4.500320     1.000000  \n",
       "max      753.342620       28.300000       124.000000     6.739000     1.000000  "
      ]
     },
     "metadata": {},
     "output_type": "display_data"
    }
   ],
   "source": [
    "#In [6]:\n",
    "# Describe the data\n",
    "\n",
    "display(df.describe(include='all'))"
   ]
  },
  {
   "cell_type": "markdown",
   "id": "7c480ad7",
   "metadata": {},
   "source": [
    "## 2) Visualize the data\n",
    "### 2.1 Histograms of numeric features"
   ]
  },
  {
   "cell_type": "code",
   "execution_count": 10,
   "id": "d337c3f9",
   "metadata": {},
   "outputs": [
    {
     "data": {
      "image/png": "[encoded data removed]",
      "text/plain": [
       "<Figure size 600x300 with 1 Axes>"
      ]
     },
     "metadata": {},
     "output_type": "display_data"
    },
    {
     "data": {
      "image/png": "[encoded data removed]",
      "text/plain": [
       "<Figure size 600x300 with 1 Axes>"
      ]
     },
     "metadata": {},
     "output_type": "display_data"
    },
    {
     "data": {
      "image/png": "[encoded data removed]",
      "text/plain": [
       "<Figure size 600x300 with 1 Axes>"
      ]
     },
     "metadata": {},
     "output_type": "display_data"
    },
    {
     "data": {
      "image/png": "[encoded data removed]",
      "text/plain": [
       "<Figure size 600x300 with 1 Axes>"
      ]
     },
     "metadata": {},
     "output_type": "display_data"
    },
    {
     "data": {
      "image/png": "[encoded data removed]",
      "text/plain": [
       "<Figure size 600x300 with 1 Axes>"
      ]
     },
     "metadata": {},
     "output_type": "display_data"
    },
    {
     "data": {
      "image/png": "[encoded data removed]",
      "text/plain": [
       "<Figure size 600x300 with 1 Axes>"
      ]
     },
     "metadata": {},
     "output_type": "display_data"
    },
    {
     "data": {
      "image/png": "[encoded data removed]",
      "text/plain": [
       "<Figure size 600x300 with 1 Axes>"
      ]
     },
     "metadata": {},
     "output_type": "display_data"
    },
    {
     "data": {
      "image/png": "[encoded data removed]",
      "text/plain": [
       "<Figure size 600x300 with 1 Axes>"
      ]
     },
     "metadata": {},
     "output_type": "display_data"
    },
    {
     "data": {
      "image/png": "[encoded data removed]",
      "text/plain": [
       "<Figure size 600x300 with 1 Axes>"
      ]
     },
     "metadata": {},
     "output_type": "display_data"
    },
    {
     "data": {
      "image/png": "[encoded data removed]",
      "text/plain": [
       "<Figure size 600x300 with 1 Axes>"
      ]
     },
     "metadata": {},
     "output_type": "display_data"
    }
   ],
   "source": [
    "numeric_cols = [c for c in df.columns if df[c].dtype != 'O']\n",
    "USE_SEABORN = True\n",
    "\n",
    "for col in numeric_cols:\n",
    "    plt.figure(figsize=(6,3))\n",
    "    if USE_SEABORN:\n",
    "        sns.histplot(df[col].dropna(), bins=40)\n",
    "    else:\n",
    "        plt.hist(df[col].dropna(), bins=40)\n",
    "    plt.title(col)\n",
    "    plt.show()\n"
   ]
  },
  {
   "cell_type": "markdown",
   "id": "28a476c3",
   "metadata": {},
   "source": [
    "## 3) Identify the missing values and fill them\n",
    "### 3.1 Missing count per column\n"
   ]
  },
  {
   "cell_type": "code",
   "execution_count": null,
   "id": "4246b598-cf59-4fad-b0e4-3cbd3c8caa7d",
   "metadata": {},
   "outputs": [],
   "source": [
    "#In [7]:\n",
    "# Check if there are any null columns\n",
    "\n",
    "df.isnull().sum()"
   ]
  },
  {
   "cell_type": "markdown",
   "id": "f9627357-2bf2-4107-a076-ad18f8439176",
   "metadata": {},
   "source": [
    "### 3.2 Plot missing values\n"
   ]
  },
  {
   "cell_type": "code",
   "execution_count": null,
   "id": "27bd302e-281d-4c1d-a477-faaa2bae2472",
   "metadata": {},
   "outputs": [],
   "source": [
    "#In [8]:\n",
    "# Lets try to plot misisng values\n",
    "\n",
    "missing = df.isnull().sum()\n",
    "missing = missing[missing > 0]\n",
    "\n",
    "plt.figure(figsize=(8,4))\n",
    "sns.barplot(x=missing.index, y=missing.values)\n",
    "plt.title(\"Missing values per column\")\n",
    "plt.xticks(rotation=45)\n",
    "plt.show()"
   ]
  },
  {
   "cell_type": "markdown",
   "id": "f80560a6-dd9f-46ad-b665-83b23500ab4f",
   "metadata": {},
   "source": [
    "### 3.3 Analyze `ph` column\n"
   ]
  },
  {
   "cell_type": "code",
   "execution_count": null,
   "id": "bbf40297-62d1-4364-8912-007a8c8d24dc",
   "metadata": {},
   "outputs": [],
   "source": [
    "#In [9]:\n",
    "# for ph column\n",
    "# set the histogram, mean and median\n",
    "\n",
    "col = \"ph\"\n",
    "series = df[col].dropna()\n",
    "\n",
    "plt.figure(figsize=(6,3.2))\n",
    "if USE_SEABORN:\n",
    "    sns.histplot(series, bins=40, kde=False)\n",
    "else:\n",
    "    plt.hist(series, bins=40)\n",
    "\n",
    "plt.axvline(series.mean(), color='red', linestyle='--', label=f\"Mean = {series.mean():.2f}\")\n",
    "plt.axvline(series.median(), color='green', linestyle=':', label=f\"Median = {series.median():.2f}\")\n",
    "\n",
    "plt.title(\"Distribution of pH\")\n",
    "plt.legend()\n",
    "plt.show()\n",
    "\n",
    "print(f\"Skewness of {col}:\", series.skew())\n"
   ]
  },
  {
   "cell_type": "markdown",
   "id": "8b89b646-7099-45bb-9d6e-dc60ac65b40f",
   "metadata": {},
   "source": [
    "Based on the above data, we can impute **pH** with either mean or median.  \n",
    "Since the skewness is low, the distribution is approximately symmetric.\n"
   ]
  },
  {
   "cell_type": "markdown",
   "id": "700dccc3-fbf4-4eac-9c1c-003f480d1687",
   "metadata": {},
   "source": [
    "### 3.4 Analyze `Sulfate` column\n"
   ]
  },
  {
   "cell_type": "code",
   "execution_count": null,
   "id": "192c7d61-1b88-4f40-a50b-dec42407c268",
   "metadata": {},
   "outputs": [],
   "source": [
    "#In [10]:\n",
    "col = \"Sulfate\"\n",
    "series = df[col].dropna()\n",
    "\n",
    "plt.figure(figsize=(6,3.2))\n",
    "if USE_SEABORN:\n",
    "    sns.histplot(series, bins=40, kde=False)\n",
    "else:\n",
    "    plt.hist(series, bins=40)\n",
    "\n",
    "plt.axvline(series.mean(), color='red', linestyle='--', label=f\"Mean = {series.mean():.2f}\")\n",
    "plt.axvline(series.median(), color='green', linestyle=':', label=f\"Median = {series.median():.2f}\")\n",
    "\n",
    "plt.title(\"Distribution of Sulfate\")\n",
    "plt.legend()\n",
    "plt.show()\n",
    "\n",
    "print(f\"Skewness of {col}: {series.skew():.3f}\")\n"
   ]
  },
  {
   "cell_type": "markdown",
   "id": "ff1994f9-a9b7-4e39-b574-2211599fe390",
   "metadata": {},
   "source": [
    "Based on the distribution of **Sulfate**, we can impute missing values using the median, \n",
    "because the distribution shows some skewness.\n"
   ]
  },
  {
   "cell_type": "markdown",
   "id": "8f80caf0-22e7-421c-b654-8afadcfab90f",
   "metadata": {},
   "source": [
    "### 3.5 Analyze `Trihalomethanes` column\n"
   ]
  },
  {
   "cell_type": "code",
   "execution_count": null,
   "id": "9b307a70-463f-4393-ba1e-bd8a50d8dd37",
   "metadata": {},
   "outputs": [],
   "source": [
    "#In [11]:\n",
    "col = \"Trihalomethanes\"\n",
    "series = df[col].dropna()\n",
    "\n",
    "plt.figure(figsize=(6,3.2))\n",
    "if USE_SEABORN:\n",
    "    sns.histplot(series, bins=40, kde=False)\n",
    "else:\n",
    "    plt.hist(series, bins=40)\n",
    "\n",
    "plt.axvline(series.mean(), color='red', linestyle='--', label=f\"Mean = {series.mean():.2f}\")\n",
    "plt.axvline(series.median(), color='green', linestyle=':', label=f\"Median = {series.median():.2f}\")\n",
    "\n",
    "plt.title(\"Distribution of Trihalomethanes\")\n",
    "plt.legend()\n",
    "plt.show()\n",
    "\n",
    "print(f\"Skewness of {col}: {series.skew():.3f}\")\n"
   ]
  },
  {
   "cell_type": "markdown",
   "id": "963b9981-78cb-4f23-bf48-91b9c8e75663",
   "metadata": {},
   "source": [
    "Based on the distribution of **Trihalomethanes**, we can impute missing values using mean or median. \n",
    "The skewness is low, so either method is acceptable.\n"
   ]
  },
  {
   "cell_type": "markdown",
   "id": "78a743e8-23f4-4dfa-a0f8-599137371dea",
   "metadata": {},
   "source": [
    "### 3.6 Imputation strategy and apply"
   ]
  },
  {
   "cell_type": "code",
   "execution_count": null,
   "id": "998f9376-9d80-469c-8530-c8e20a5d2831",
   "metadata": {},
   "outputs": [],
   "source": [
    "# 3.6 Imputation strategy and apply — preview after imputation\n",
    "\n",
    "print(\"Missing values before imputation:\\n\", df.isna().sum().sort_values(ascending=False))\n",
    "\n",
    "# Tạo bản sao và điền thiếu bằng median cho các cột số\n",
    "df_imputed = df.copy()\n",
    "for col in [c for c in df.columns if df[c].dtype != 'O']:\n",
    "    df_imputed[col] = df_imputed[col].fillna(df_imputed[col].median())\n",
    "\n",
    "print(\"\\nTotal NA after imputation:\", int(df_imputed.isna().sum().sum()))\n"
   ]
  },
  {
   "cell_type": "markdown",
   "id": "2d3c1775-3574-4279-901d-408d78d690d4",
   "metadata": {},
   "source": [
    "### 3.7 Missing Value imputation\n",
    "#### Missing values in ph column"
   ]
  },
  {
   "cell_type": "code",
   "execution_count": null,
   "id": "e1d63e10-07ba-4f21-9178-f8288f79d302",
   "metadata": {},
   "outputs": [],
   "source": [
    "#In [12]\n",
    "df_imputed = df.copy()\n",
    "\n",
    "for col in numeric_cols:\n",
    "    df_imputed[col] = df_imputed[col].fillna(df_imputed[col].mean())   # dùng mean\n",
    "    #df_imputed[col] = df_imputed[col].fillna(df_imputed[col].median())  # nếu muốn dùng median:\n",
    "\n",
    "print(\"Total NA after imputation:\", df_imputed.isna().sum().sum())\n"
   ]
  },
  {
   "cell_type": "markdown",
   "id": "8231013a-7a51-4d4d-90e5-29e38c43d51e",
   "metadata": {},
   "source": [
    "## 4) Identify the outliers and remove them\n",
    "### Identify outliers in the data\n"
   ]
  },
  {
   "cell_type": "code",
   "execution_count": null,
   "id": "e2e8f1e0-4f84-4773-b79d-53f213c9e77c",
   "metadata": {},
   "outputs": [],
   "source": [
    "#In [13]\n",
    "# check outliers\n",
    "for col in numeric_cols:\n",
    "    q1 = df_imputed[col].quantile(0.25)\n",
    "    q3 = df_imputed[col].quantile(0.75)\n",
    "    iqr = q3 - q1\n",
    "    lower, upper = q1 - 1.5 * iqr, q3 + 1.5 * iqr\n",
    "    outliers = df_imputed[(df_imputed[col] < lower) | (df_imputed[col] > upper)]\n",
    "    print(f\"{col}: {len(outliers)} outliers\")\n"
   ]
  },
  {
   "cell_type": "markdown",
   "id": "0bfabcab-595f-4c42-9e07-edab8bb57e0b",
   "metadata": {},
   "source": [
    "## 5) Identify correlation between variables\n"
   ]
  },
  {
   "cell_type": "code",
   "execution_count": null,
   "id": "56ed2d41-c624-4e56-b036-6eb6e2fb3b36",
   "metadata": {},
   "outputs": [],
   "source": [
    "# In [14]\n",
    "\n",
    "# Compute correlation matrix\n",
    "corr = df_imputed.corr(numeric_only=True)\n",
    "\n",
    "# Plot heatmap\n",
    "plt.figure(figsize=(8,6))\n",
    "sns.heatmap(corr, cmap=\"coolwarm\", center=0)\n",
    "plt.title(\"Correlation Heatmap\")\n",
    "plt.show()\n",
    "\n",
    "# Check categorical variables (if any)\n",
    "categorical_cols = [c for c in df_imputed.columns if df_imputed[c].dtype == 'O']\n",
    "if not categorical_cols:\n",
    "    print(\"There are no categorical variables in the dataset.\")\n",
    "else:\n",
    "    print(\"Categorical variables:\", categorical_cols)\n"
   ]
  },
  {
   "cell_type": "markdown",
   "id": "d64941cf-e5b6-4d2d-a15c-7d1041c1cd4b",
   "metadata": {},
   "source": [
    "## 6) Identify the numerical variables and perform basic statistical analysis\n"
   ]
  },
  {
   "cell_type": "markdown",
   "id": "6256e74c-e4a8-434a-ba11-07fe074dffa8",
   "metadata": {},
   "source": [
    "### 6.1 Summary statistics after cleaning"
   ]
  },
  {
   "cell_type": "code",
   "execution_count": null,
   "id": "7f95e6a9-d344-47f9-9a41-39a860d8afb4",
   "metadata": {},
   "outputs": [],
   "source": [
    "df_imputed.describe()"
   ]
  },
  {
   "cell_type": "markdown",
   "id": "d378c233-67c6-4abb-85f4-2fa1140dd5e8",
   "metadata": {},
   "source": [
    "### 6.2 Identify outliers in the data"
   ]
  },
  {
   "cell_type": "code",
   "execution_count": null,
   "id": "1f5cf533-6f9e-41f9-a654-7374dcef7aba",
   "metadata": {},
   "outputs": [],
   "source": [
    "#In [15]\n",
    "# identify skewness\n",
    "skewness = df_imputed[numeric_cols].skew()\n",
    "print(skewness)\n",
    "\n",
    "# showing the skewed columns (|skew| > 1)\n",
    "skewed_cols = skewness[skewness.abs() > 1]\n",
    "print(\"Number of skewed columns:\", len(skewed_cols))\n",
    "print(\"Skewed columns:\", list(skewed_cols.index))\n"
   ]
  },
  {
   "cell_type": "markdown",
   "id": "a49d173c-22e1-4da0-a9d7-3346339424f6",
   "metadata": {},
   "source": [
    "### 6.3 Lets see the distribution of Potability"
   ]
  },
  {
   "cell_type": "code",
   "execution_count": null,
   "id": "56243558-8c14-41c6-8cc6-f96b6387d6e3",
   "metadata": {},
   "outputs": [],
   "source": [
    "#In [31]:\n",
    "# distribution of Potability\n",
    "print(df_imputed[\"Potability\"].value_counts())\n",
    "\n",
    "# optional: visualize\n",
    "plt.figure(figsize=(5,3))\n",
    "sns.countplot(x=\"Potability\", data=df_imputed)\n",
    "plt.title(\"Distribution of Potability\")\n",
    "plt.xlabel(\"Potability (0 = Not drinkable, 1 = Drinkable)\")\n",
    "plt.ylabel(\"Count\")\n",
    "plt.show()\n"
   ]
  },
  {
   "cell_type": "code",
   "execution_count": null,
   "id": "1e86ea4f-0446-4484-b266-bfb79689977c",
   "metadata": {},
   "outputs": [],
   "source": []
  },
  {
   "cell_type": "markdown",
   "id": "eb223c86",
   "metadata": {},
   "source": [
    "## 7) Feature Transformation"
   ]
  },
  {
   "cell_type": "markdown",
   "id": "b8f60788-c360-40c7-8083-f20afe13e11c",
   "metadata": {},
   "source": [
    "### After transformation print the dataframe head"
   ]
  },
  {
   "cell_type": "code",
   "execution_count": null,
   "id": "f8d5e3dd-ed7f-4c5f-86e4-ec3050d9d2f3",
   "metadata": {},
   "outputs": [],
   "source": [
    "#In [16]:\n",
    "display(df_imputed.head())"
   ]
  },
  {
   "cell_type": "markdown",
   "id": "417a774b-9e87-4e6d-a1a9-99089b4cbd1d",
   "metadata": {},
   "source": [
    "### Feature transformation"
   ]
  },
  {
   "cell_type": "code",
   "execution_count": null,
   "id": "af5d0301-1596-4998-b20a-ba65b41e52d9",
   "metadata": {},
   "outputs": [],
   "source": [
    "#In [17]:\n",
    "\n",
    "INPUT_FILE_PATH = \"https://raw.githubusercontent.com/Mitalnmt/Lab1_AIL303m/main/water_potability.csv\"\n",
    "df_raw = pd.read_csv(INPUT_FILE_PATH)\n",
    "\n",
    "#Impute = MEAN (đề thường dùng mean)\n",
    "num_cols = ['ph','Hardness','Solids','Chloramines','Sulfate',\n",
    "            'Conductivity','Organic_carbon','Trihalomethanes','Turbidity']\n",
    "\n",
    "df_imputed = df_raw.copy()\n",
    "for c in num_cols:\n",
    "    df_imputed[c] = df_imputed[c].fillna(df_imputed[c].mean())   # <-- dùng mean thay vì median\n",
    "\n",
    "scaler = StandardScaler()              # StandardScaler dùng std với ddof=0 (population)\n",
    "X_scaled = scaler.fit_transform(df_imputed[num_cols])\n",
    "\n",
    "\n",
    "df_transformed = pd.DataFrame(X_scaled, columns=num_cols, index=df_imputed.index)\n",
    "df_transformed['Potability'] = df_imputed['Potability'].astype(int)\n",
    "\n"
   ]
  },
  {
   "cell_type": "markdown",
   "id": "c73efd60-0641-4b8d-878a-0216209eb883",
   "metadata": {},
   "source": [
    "### After transformation print the dataframe head"
   ]
  },
  {
   "cell_type": "code",
   "execution_count": null,
   "id": "197b5c34-0af8-4e64-914c-74c7ae263e39",
   "metadata": {},
   "outputs": [],
   "source": [
    "# In [18]\n",
    "\n",
    "pd.set_option(\"display.float_format\", \"{:.6f}\".format)\n",
    "display(df_transformed.head())\n"
   ]
  },
  {
   "cell_type": "markdown",
   "id": "7309d9c7",
   "metadata": {},
   "source": [
    "## 8) Save the cleaned data"
   ]
  },
  {
   "cell_type": "code",
   "execution_count": null,
   "id": "d2f91e0e-3dca-4e0a-8173-6824dd6adc93",
   "metadata": {},
   "outputs": [],
   "source": [
    "# In [30] \n",
    "\n",
    "# Tạo folder 'data' nếu chưa có\n",
    "os.makedirs(\"data\", exist_ok=True)\n",
    "\n",
    "# Lưu dữ liệu đã impute (chưa scale)\n",
    "df_imputed.to_csv(\"data/water_clean_imputed.csv\", index=False)\n",
    "\n",
    "# Lưu dữ liệu đã scale\n",
    "df_transformed.to_csv(\"data/water_clean_scaled.csv\", index=False)\n",
    "\n",
    "print(\"✅ Files saved into 'data' folder:\")\n",
    "print(\" - data/water_clean_imputed.csv\")\n",
    "print(\" - data/water_clean_scaled.csv\")\n"
   ]
  },
  {
   "cell_type": "markdown",
   "id": "8b794d2c",
   "metadata": {},
   "source": [
    "## 9) Hypothesis Testing"
   ]
  },
  {
   "cell_type": "code",
   "execution_count": null,
   "id": "9c66ddec-75f5-477c-86e0-a6145189e754",
   "metadata": {},
   "outputs": [],
   "source": [
    "# In [29]\n",
    "\n",
    "ph = df_imputed[\"ph\"].dropna()\n",
    "solids = df_imputed[\"Solids\"].dropna()\n",
    "\n",
    "# Thực hiện Independent T-test\n",
    "t_stat, p_val = stats.ttest_ind(ph, solids)\n",
    "\n",
    "print(\"T-test result:\")\n",
    "print(\"Statistic =\", t_stat, \", p-value =\", p_val)\n",
    "\n",
    "# Diễn giải kết quả\n",
    "alpha = 0.05\n",
    "if p_val < alpha:\n",
    "    print(f\"Since p-value = {p_val:.6f} < {alpha}, we reject the null hypothesis.\")\n",
    "else:\n",
    "    print(f\"Since p-value = {p_val:.6f} >= {alpha}, we fail to reject the null hypothesis.\")\n"
   ]
  },
  {
   "cell_type": "markdown",
   "id": "ab0569d0",
   "metadata": {},
   "source": [
    "# 10) Next steps / Quality / Key findings\n",
    "- Xem lại skewness, cân bằng lớp, thử modeling.\n",
    "- Điền kết luận theo kết quả chạy thực tế."
   ]
  },
  {
   "cell_type": "code",
   "execution_count": null,
   "id": "31ca8a83-2f20-4607-9da9-3259b9d136ba",
   "metadata": {},
   "outputs": [],
   "source": []
  }
 ],
 "metadata": {
  "kernelspec": {
   "display_name": "Python 3 (ipykernel)",
   "language": "python",
   "name": "python3"
  },
  "language_info": {
   "codemirror_mode": {
    "name": "ipython",
    "version": 3
   },
   "file_extension": ".py",
   "mimetype": "text/x-python",
   "name": "python",
   "nbconvert_exporter": "python",
   "pygments_lexer": "ipython3",
   "version": "3.12.0"
  }
 },
 "nbformat": 4,
 "nbformat_minor": 5
}
